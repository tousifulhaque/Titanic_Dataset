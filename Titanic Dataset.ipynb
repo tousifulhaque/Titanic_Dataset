{
 "cells": [
  {
   "cell_type": "code",
   "execution_count": 1,
   "id": "159f55d8",
   "metadata": {},
   "outputs": [],
   "source": [
    "import pandas as pd\n",
    "import numpy as np \n",
    "import sklearn\n",
    "import matplotlib.pyplot as plt"
   ]
  },
  {
   "cell_type": "code",
   "execution_count": 50,
   "id": "7fb40a5d",
   "metadata": {},
   "outputs": [],
   "source": [
    "train_data = pd.read_csv('train.csv')\n",
    "test_data = pd.read_csv('test.csv')\n",
    "y_test = pd.read_csv('gender_submission.csv').set_index('PassengerId').to_numpy()\n"
   ]
  },
  {
   "cell_type": "code",
   "execution_count": 3,
   "id": "e8ca5f4f",
   "metadata": {},
   "outputs": [],
   "source": [
    "corr_matrix = train_data.corr()"
   ]
  },
  {
   "cell_type": "code",
   "execution_count": 4,
   "id": "4faacf55",
   "metadata": {},
   "outputs": [
    {
     "data": {
      "text/plain": [
       "Survived       1.000000\n",
       "Fare           0.257307\n",
       "Parch          0.081629\n",
       "PassengerId   -0.005007\n",
       "SibSp         -0.035322\n",
       "Age           -0.077221\n",
       "Pclass        -0.338481\n",
       "Name: Survived, dtype: float64"
      ]
     },
     "execution_count": 4,
     "metadata": {},
     "output_type": "execute_result"
    }
   ],
   "source": [
    "corr_matrix['Survived'].sort_values(ascending = False)"
   ]
  },
  {
   "cell_type": "markdown",
   "id": "38c8faf5",
   "metadata": {},
   "source": [
    "#### Dropping the not so important features "
   ]
  },
  {
   "cell_type": "markdown",
   "id": "2278578f",
   "metadata": {},
   "source": [
    "Name, ticket and cabin number aren't much important features in my opinion and transforming them into numbers can also be tedious task. So, I decided to left out this features."
   ]
  },
  {
   "cell_type": "code",
   "execution_count": 24,
   "id": "d87b1cd3",
   "metadata": {},
   "outputs": [],
   "source": [
    "train_clean = train_data.drop(['Name', 'Ticket', 'Cabin'], axis = 1)\n",
    "test_clean = test_data.drop(['Name', 'Ticket', 'Cabin'], axis = 1)"
   ]
  },
  {
   "cell_type": "markdown",
   "id": "2df59322",
   "metadata": {},
   "source": [
    "#### Setting PassengerID was Index "
   ]
  },
  {
   "cell_type": "code",
   "execution_count": 25,
   "id": "0652e05a",
   "metadata": {},
   "outputs": [],
   "source": [
    "train_clean.set_index('PassengerId', inplace = True)\n",
    "test_clean.set_index('PassengerId', inplace = True)"
   ]
  },
  {
   "cell_type": "markdown",
   "id": "b99cd959",
   "metadata": {},
   "source": [
    "#### Encoding Text data into Numerical Data "
   ]
  },
  {
   "cell_type": "markdown",
   "id": "53aa0b8c",
   "metadata": {},
   "source": [
    "The sex and embarked columns contains text data. ML algorithms works on numerical data that's why I encoded the data in this columns into numerical values."
   ]
  },
  {
   "cell_type": "code",
   "execution_count": 26,
   "id": "b626dff3",
   "metadata": {},
   "outputs": [],
   "source": [
    "from sklearn.preprocessing import LabelEncoder\n",
    "encoder = LabelEncoder()\n",
    "transformation_list = [2 , 7]\n",
    "for i in transformation_list: #Transforming different column entries with a for loop\n",
    "    train_clean[train_clean.columns[i]] = encoder.fit_transform( train_clean[train_clean.columns[i]])\n",
    "    test_clean[test_clean.columns[i-1]] = encoder.fit_transform(test_clean[test_clean.columns[i-1]])\n"
   ]
  },
  {
   "cell_type": "markdown",
   "id": "ec4df8d7",
   "metadata": {},
   "source": [
    "#### Filling up missing values "
   ]
  },
  {
   "cell_type": "markdown",
   "id": "cd11b6f2",
   "metadata": {},
   "source": [
    "The Age feature has multiple mixing values. Though it may seem irrational still I decided to fill up the empty space with the median of this feature."
   ]
  },
  {
   "cell_type": "code",
   "execution_count": 29,
   "id": "81e113fc",
   "metadata": {},
   "outputs": [],
   "source": [
    "from sklearn.impute import SimpleImputer\n",
    "imputer = SimpleImputer(strategy = 'median')\n",
    "train_transformed = train_clean['Age'].to_numpy().reshape(-1, 1) # Simple Imputer excepts input in the form of array \n",
    "# but the 'Age' column is a Series object. So, converted it into a array like form.\n",
    "test_transformed = test_clean['Age'].to_numpy().reshape(-1,1)\n",
    "train_age_transformed = imputer.fit_transform(train_transformed)\n",
    "test_age_tranformed = imputer.fit_transform(test_transformed)\n",
    "train_clean['Age'] = train_age_transformed\n",
    "test_clean['Age'] = test_age_tranformed"
   ]
  },
  {
   "cell_type": "markdown",
   "id": "355fdec6",
   "metadata": {},
   "source": [
    "#### Normalizing/ Scaling the data "
   ]
  },
  {
   "cell_type": "markdown",
   "id": "526396f5",
   "metadata": {},
   "source": [
    "Age and Fare are on very different range and it can effect the model's effort to find the global minima. So, using the Standard Scaler I scaled down these two features to the range of -1 to 1.  "
   ]
  },
  {
   "cell_type": "code",
   "execution_count": 31,
   "id": "075dc283",
   "metadata": {},
   "outputs": [],
   "source": [
    "from sklearn.preprocessing import StandardScaler\n",
    "scaler = StandardScaler()\n",
    "transformation_list = [3, 6]\n",
    "for i in transformation_list:\n",
    "    train_clean[train_clean.columns[i]] = scaler.fit_transform( train_clean[train_clean.columns[i]].to_numpy().reshape(-1,1))\n",
    "    test_clean[test_clean.columns[i-1]] = scaler.fit_transform( test_clean[train_clean.columns[i-1]].to_numpy().reshape(-1,1))"
   ]
  },
  {
   "cell_type": "code",
   "execution_count": 37,
   "id": "23c56633",
   "metadata": {},
   "outputs": [],
   "source": [
    "feature_vector = train_clean.iloc[:,1:]"
   ]
  },
  {
   "cell_type": "code",
   "execution_count": 38,
   "id": "c0670643",
   "metadata": {},
   "outputs": [],
   "source": [
    "target = train_clean.iloc[:, 0]"
   ]
  },
  {
   "cell_type": "code",
   "execution_count": 63,
   "id": "45064ee5",
   "metadata": {},
   "outputs": [],
   "source": [
    "from sklearn.linear_model import LogisticRegression, SGDClassifier\n",
    "sgd_clf = SGDClassifier()\n",
    "log_reg = LogisticRegression()\n",
    "sgd_clf.fit(feature_vector, target)\n",
    "y_pred = sgd_clf.predict(test_clean)"
   ]
  },
  {
   "cell_type": "code",
   "execution_count": 61,
   "id": "82a58779",
   "metadata": {},
   "outputs": [
    {
     "data": {
      "text/plain": [
       "array([0.76430976, 0.78787879, 0.79461279])"
      ]
     },
     "execution_count": 61,
     "metadata": {},
     "output_type": "execute_result"
    }
   ],
   "source": [
    "from sklearn.model_selection import cross_val_score\n",
    "from sklearn.model_selection import cross_val_predict\n",
    "cross_val_score(sgd_clf, feature_vector, target, cv = 3)"
   ]
  },
  {
   "cell_type": "code",
   "execution_count": 72,
   "id": "6802944c",
   "metadata": {},
   "outputs": [
    {
     "data": {
      "text/plain": [
       "0.9770491803278688"
      ]
     },
     "execution_count": 72,
     "metadata": {},
     "output_type": "execute_result"
    }
   ],
   "source": [
    "from sklearn.metrics import f1_score, recall_score, precision_score\n",
    "f1_score(y_test, y_pred)"
   ]
  },
  {
   "cell_type": "code",
   "execution_count": 73,
   "id": "3de40151",
   "metadata": {},
   "outputs": [
    {
     "data": {
      "text/plain": [
       "0.9802631578947368"
      ]
     },
     "execution_count": 73,
     "metadata": {},
     "output_type": "execute_result"
    }
   ],
   "source": [
    "recall_score(y_test, y_pred)"
   ]
  },
  {
   "cell_type": "code",
   "execution_count": 58,
   "id": "a262744a",
   "metadata": {},
   "outputs": [
    {
     "data": {
      "text/html": [
       "<div>\n",
       "<style scoped>\n",
       "    .dataframe tbody tr th:only-of-type {\n",
       "        vertical-align: middle;\n",
       "    }\n",
       "\n",
       "    .dataframe tbody tr th {\n",
       "        vertical-align: top;\n",
       "    }\n",
       "\n",
       "    .dataframe thead th {\n",
       "        text-align: right;\n",
       "    }\n",
       "</style>\n",
       "<table border=\"1\" class=\"dataframe\">\n",
       "  <thead>\n",
       "    <tr style=\"text-align: right;\">\n",
       "      <th></th>\n",
       "      <th>Pclass</th>\n",
       "      <th>Sex</th>\n",
       "      <th>Age</th>\n",
       "      <th>SibSp</th>\n",
       "      <th>Parch</th>\n",
       "      <th>Fare</th>\n",
       "      <th>Embarked</th>\n",
       "    </tr>\n",
       "    <tr>\n",
       "      <th>PassengerId</th>\n",
       "      <th></th>\n",
       "      <th></th>\n",
       "      <th></th>\n",
       "      <th></th>\n",
       "      <th></th>\n",
       "      <th></th>\n",
       "      <th></th>\n",
       "    </tr>\n",
       "  </thead>\n",
       "  <tbody>\n",
       "    <tr>\n",
       "      <th>892</th>\n",
       "      <td>3</td>\n",
       "      <td>1</td>\n",
       "      <td>0.755929</td>\n",
       "      <td>0</td>\n",
       "      <td>0</td>\n",
       "      <td>-0.400248</td>\n",
       "      <td>1</td>\n",
       "    </tr>\n",
       "    <tr>\n",
       "      <th>893</th>\n",
       "      <td>3</td>\n",
       "      <td>0</td>\n",
       "      <td>-1.322876</td>\n",
       "      <td>1</td>\n",
       "      <td>0</td>\n",
       "      <td>-0.400248</td>\n",
       "      <td>2</td>\n",
       "    </tr>\n",
       "    <tr>\n",
       "      <th>894</th>\n",
       "      <td>2</td>\n",
       "      <td>1</td>\n",
       "      <td>0.755929</td>\n",
       "      <td>0</td>\n",
       "      <td>0</td>\n",
       "      <td>-0.400248</td>\n",
       "      <td>1</td>\n",
       "    </tr>\n",
       "    <tr>\n",
       "      <th>895</th>\n",
       "      <td>3</td>\n",
       "      <td>1</td>\n",
       "      <td>0.755929</td>\n",
       "      <td>0</td>\n",
       "      <td>0</td>\n",
       "      <td>-0.400248</td>\n",
       "      <td>2</td>\n",
       "    </tr>\n",
       "    <tr>\n",
       "      <th>896</th>\n",
       "      <td>3</td>\n",
       "      <td>0</td>\n",
       "      <td>-1.322876</td>\n",
       "      <td>1</td>\n",
       "      <td>1</td>\n",
       "      <td>0.619896</td>\n",
       "      <td>2</td>\n",
       "    </tr>\n",
       "    <tr>\n",
       "      <th>...</th>\n",
       "      <td>...</td>\n",
       "      <td>...</td>\n",
       "      <td>...</td>\n",
       "      <td>...</td>\n",
       "      <td>...</td>\n",
       "      <td>...</td>\n",
       "      <td>...</td>\n",
       "    </tr>\n",
       "    <tr>\n",
       "      <th>1305</th>\n",
       "      <td>3</td>\n",
       "      <td>1</td>\n",
       "      <td>0.755929</td>\n",
       "      <td>0</td>\n",
       "      <td>0</td>\n",
       "      <td>-0.400248</td>\n",
       "      <td>2</td>\n",
       "    </tr>\n",
       "    <tr>\n",
       "      <th>1306</th>\n",
       "      <td>1</td>\n",
       "      <td>0</td>\n",
       "      <td>-1.322876</td>\n",
       "      <td>0</td>\n",
       "      <td>0</td>\n",
       "      <td>-0.400248</td>\n",
       "      <td>0</td>\n",
       "    </tr>\n",
       "    <tr>\n",
       "      <th>1307</th>\n",
       "      <td>3</td>\n",
       "      <td>1</td>\n",
       "      <td>0.755929</td>\n",
       "      <td>0</td>\n",
       "      <td>0</td>\n",
       "      <td>-0.400248</td>\n",
       "      <td>2</td>\n",
       "    </tr>\n",
       "    <tr>\n",
       "      <th>1308</th>\n",
       "      <td>3</td>\n",
       "      <td>1</td>\n",
       "      <td>0.755929</td>\n",
       "      <td>0</td>\n",
       "      <td>0</td>\n",
       "      <td>-0.400248</td>\n",
       "      <td>2</td>\n",
       "    </tr>\n",
       "    <tr>\n",
       "      <th>1309</th>\n",
       "      <td>3</td>\n",
       "      <td>1</td>\n",
       "      <td>0.755929</td>\n",
       "      <td>1</td>\n",
       "      <td>1</td>\n",
       "      <td>0.619896</td>\n",
       "      <td>0</td>\n",
       "    </tr>\n",
       "  </tbody>\n",
       "</table>\n",
       "<p>418 rows × 7 columns</p>\n",
       "</div>"
      ],
      "text/plain": [
       "             Pclass  Sex       Age  SibSp  Parch      Fare  Embarked\n",
       "PassengerId                                                         \n",
       "892               3    1  0.755929      0      0 -0.400248         1\n",
       "893               3    0 -1.322876      1      0 -0.400248         2\n",
       "894               2    1  0.755929      0      0 -0.400248         1\n",
       "895               3    1  0.755929      0      0 -0.400248         2\n",
       "896               3    0 -1.322876      1      1  0.619896         2\n",
       "...             ...  ...       ...    ...    ...       ...       ...\n",
       "1305              3    1  0.755929      0      0 -0.400248         2\n",
       "1306              1    0 -1.322876      0      0 -0.400248         0\n",
       "1307              3    1  0.755929      0      0 -0.400248         2\n",
       "1308              3    1  0.755929      0      0 -0.400248         2\n",
       "1309              3    1  0.755929      1      1  0.619896         0\n",
       "\n",
       "[418 rows x 7 columns]"
      ]
     },
     "execution_count": 58,
     "metadata": {},
     "output_type": "execute_result"
    }
   ],
   "source": [
    "test_clean"
   ]
  },
  {
   "cell_type": "code",
   "execution_count": 66,
   "id": "8e0359fd",
   "metadata": {},
   "outputs": [],
   "source": [
    "survivor_prediction = pd.Series(y_pred, index = test_clean.index)"
   ]
  },
  {
   "cell_type": "code",
   "execution_count": 70,
   "id": "ed145889",
   "metadata": {},
   "outputs": [],
   "source": [
    "survivor_prediction.to_csv('Survivor_prediction.csv')"
   ]
  },
  {
   "cell_type": "code",
   "execution_count": null,
   "id": "6077c6d2",
   "metadata": {},
   "outputs": [],
   "source": []
  }
 ],
 "metadata": {
  "kernelspec": {
   "display_name": "Python 3",
   "language": "python",
   "name": "python3"
  },
  "language_info": {
   "codemirror_mode": {
    "name": "ipython",
    "version": 3
   },
   "file_extension": ".py",
   "mimetype": "text/x-python",
   "name": "python",
   "nbconvert_exporter": "python",
   "pygments_lexer": "ipython3",
   "version": "3.8.4"
  }
 },
 "nbformat": 4,
 "nbformat_minor": 5
}
